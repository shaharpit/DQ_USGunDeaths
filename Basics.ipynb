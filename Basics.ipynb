{
 "cells": [
  {
   "cell_type": "code",
   "execution_count": 17,
   "metadata": {
    "collapsed": true
   },
   "outputs": [],
   "source": [
    "import csv\n",
    "import datetime"
   ]
  },
  {
   "cell_type": "code",
   "execution_count": 18,
   "metadata": {
    "collapsed": true
   },
   "outputs": [],
   "source": [
    "data = list(csv.reader(open('guns.csv','r')))"
   ]
  },
  {
   "cell_type": "code",
   "execution_count": 19,
   "metadata": {
    "collapsed": false
   },
   "outputs": [],
   "source": [
    "headers = data[0]\n",
    "data = data[1:]"
   ]
  },
  {
   "cell_type": "code",
   "execution_count": 20,
   "metadata": {
    "collapsed": false
   },
   "outputs": [
    {
     "name": "stdout",
     "output_type": "stream",
     "text": [
      "['', 'year', 'month', 'intent', 'police', 'sex', 'age', 'race', 'hispanic', 'place', 'education']\n",
      "[['1', '2012', '01', 'Suicide', '0', 'M', '34', 'Asian/Pacific Islander', '100', 'Home', '4'], ['2', '2012', '01', 'Suicide', '0', 'F', '21', 'White', '100', 'Street', '3'], ['3', '2012', '01', 'Suicide', '0', 'M', '60', 'White', '100', 'Other specified', '4'], ['4', '2012', '02', 'Suicide', '0', 'M', '64', 'White', '100', 'Home', '4'], ['5', '2012', '02', 'Suicide', '0', 'M', '31', 'White', '100', 'Other specified', '2']]\n"
     ]
    }
   ],
   "source": [
    "print(headers)\n",
    "print(data[0:5])"
   ]
  },
  {
   "cell_type": "code",
   "execution_count": 21,
   "metadata": {
    "collapsed": false
   },
   "outputs": [
    {
     "name": "stdout",
     "output_type": "stream",
     "text": [
      "{'2013': 33636, '2014': 33599, '2012': 33563}\n"
     ]
    }
   ],
   "source": [
    "years = [x[1] for x in data]\n",
    "\n",
    "year_counts = {}\n",
    "\n",
    "for i in years:\n",
    "    if i in year_counts:\n",
    "        year_counts[i] += 1\n",
    "    else:\n",
    "        year_counts[i] = 1\n",
    "\n",
    "print(year_counts)"
   ]
  },
  {
   "cell_type": "code",
   "execution_count": 22,
   "metadata": {
    "collapsed": false
   },
   "outputs": [],
   "source": [
    "dates = [datetime.datetime(year=int(x[1]), month=int(x[2]), day=1) for x in data]"
   ]
  },
  {
   "cell_type": "code",
   "execution_count": 23,
   "metadata": {
    "collapsed": false
   },
   "outputs": [
    {
     "name": "stdout",
     "output_type": "stream",
     "text": [
      "[datetime.datetime(2012, 1, 1, 0, 0), datetime.datetime(2012, 1, 1, 0, 0), datetime.datetime(2012, 1, 1, 0, 0), datetime.datetime(2012, 2, 1, 0, 0), datetime.datetime(2012, 2, 1, 0, 0)]\n"
     ]
    }
   ],
   "source": [
    "print(dates[0:5])"
   ]
  },
  {
   "cell_type": "code",
   "execution_count": 24,
   "metadata": {
    "collapsed": false
   },
   "outputs": [
    {
     "name": "stdout",
     "output_type": "stream",
     "text": [
      "{datetime.datetime(2012, 9, 1, 0, 0): 2852, datetime.datetime(2014, 4, 1, 0, 0): 2862, datetime.datetime(2014, 2, 1, 0, 0): 2361, datetime.datetime(2012, 5, 1, 0, 0): 2999, datetime.datetime(2012, 7, 1, 0, 0): 3026, datetime.datetime(2014, 1, 1, 0, 0): 2651, datetime.datetime(2012, 2, 1, 0, 0): 2357, datetime.datetime(2014, 10, 1, 0, 0): 2865, datetime.datetime(2014, 8, 1, 0, 0): 2970, datetime.datetime(2013, 1, 1, 0, 0): 2864, datetime.datetime(2013, 8, 1, 0, 0): 2859, datetime.datetime(2013, 12, 1, 0, 0): 2765, datetime.datetime(2012, 12, 1, 0, 0): 2791, datetime.datetime(2013, 10, 1, 0, 0): 2808, datetime.datetime(2013, 9, 1, 0, 0): 2742, datetime.datetime(2014, 3, 1, 0, 0): 2684, datetime.datetime(2013, 6, 1, 0, 0): 2920, datetime.datetime(2014, 9, 1, 0, 0): 2914, datetime.datetime(2013, 7, 1, 0, 0): 3079, datetime.datetime(2014, 11, 1, 0, 0): 2756, datetime.datetime(2013, 4, 1, 0, 0): 2798, datetime.datetime(2014, 12, 1, 0, 0): 2857, datetime.datetime(2012, 8, 1, 0, 0): 2954, datetime.datetime(2014, 7, 1, 0, 0): 2884, datetime.datetime(2014, 6, 1, 0, 0): 2931, datetime.datetime(2012, 1, 1, 0, 0): 2758, datetime.datetime(2012, 11, 1, 0, 0): 2729, datetime.datetime(2013, 2, 1, 0, 0): 2375, datetime.datetime(2012, 10, 1, 0, 0): 2733, datetime.datetime(2013, 3, 1, 0, 0): 2862, datetime.datetime(2014, 5, 1, 0, 0): 2864, datetime.datetime(2013, 5, 1, 0, 0): 2806, datetime.datetime(2013, 11, 1, 0, 0): 2758, datetime.datetime(2012, 6, 1, 0, 0): 2826, datetime.datetime(2012, 4, 1, 0, 0): 2795, datetime.datetime(2012, 3, 1, 0, 0): 2743}\n"
     ]
    }
   ],
   "source": [
    "date_counts = {}\n",
    "\n",
    "for i in dates:\n",
    "    if i in date_counts:\n",
    "        date_counts[i] += 1\n",
    "    else:\n",
    "        date_counts[i] = 1\n",
    "\n",
    "print(date_counts)"
   ]
  },
  {
   "cell_type": "code",
   "execution_count": 25,
   "metadata": {
    "collapsed": false
   },
   "outputs": [
    {
     "name": "stdout",
     "output_type": "stream",
     "text": [
      "{'White': 66237, 'Hispanic': 9022, 'Asian/Pacific Islander': 1326, 'Black': 23296, 'Native American/Native Alaskan': 917}\n",
      "{'F': 14449, 'M': 86349}\n"
     ]
    }
   ],
   "source": [
    "sex_counts = {} # i[5]\n",
    "race_counts = {} # i[7]\n",
    "\n",
    "for i in data:\n",
    "    if i[5] in sex_counts:\n",
    "        sex_counts[i[5]] += 1\n",
    "    else:\n",
    "        sex_counts[i[5]] = 1\n",
    "    \n",
    "    if i[7] in race_counts:\n",
    "        race_counts[i[7]] += 1\n",
    "    else:\n",
    "        race_counts[i[7]] = 1\n",
    "\n",
    "print(race_counts)\n",
    "print(sex_counts)"
   ]
  },
  {
   "cell_type": "markdown",
   "metadata": {},
   "source": [
    "### Insights\n",
    "While year-over-year gun deaths seemed to be consistent, it appears that gun deaths spike each year during the warmer months (May - Sept). The majority of people involved in gun deaths over the 3 years were White, with the minority being Native American/Native Alaskan. Males were involved in almost 6 times more gun deaths than females.\n",
    "\n",
    "### Further examination\n",
    "It would be beneficial to understand the trends in gun deaths based on BOTH race and gender together instead of separately."
   ]
  },
  {
   "cell_type": "code",
   "execution_count": 26,
   "metadata": {
    "collapsed": false
   },
   "outputs": [
    {
     "data": {
      "text/plain": [
       "[['Id',\n",
       "  'Year',\n",
       "  'Id',\n",
       "  'Sex',\n",
       "  'Id',\n",
       "  'Hispanic Origin',\n",
       "  'Id',\n",
       "  'Id2',\n",
       "  'Geography',\n",
       "  'Total',\n",
       "  'Race Alone - White',\n",
       "  'Race Alone - Hispanic',\n",
       "  'Race Alone - Black or African American',\n",
       "  'Race Alone - American Indian and Alaska Native',\n",
       "  'Race Alone - Asian',\n",
       "  'Race Alone - Native Hawaiian and Other Pacific Islander',\n",
       "  'Two or More Races'],\n",
       " ['cen42010',\n",
       "  'April 1, 2010 Census',\n",
       "  'totsex',\n",
       "  'Both Sexes',\n",
       "  'tothisp',\n",
       "  'Total',\n",
       "  '0100000US',\n",
       "  '',\n",
       "  'United States',\n",
       "  '308745538',\n",
       "  '197318956',\n",
       "  '44618105',\n",
       "  '40250635',\n",
       "  '3739506',\n",
       "  '15159516',\n",
       "  '674625',\n",
       "  '6984195']]"
      ]
     },
     "execution_count": 26,
     "metadata": {},
     "output_type": "execute_result"
    }
   ],
   "source": [
    "census = list(csv.reader(open('census.csv','r')))\n",
    "census"
   ]
  },
  {
   "cell_type": "code",
   "execution_count": 30,
   "metadata": {
    "collapsed": false
   },
   "outputs": [
    {
     "name": "stdout",
     "output_type": "stream",
     "text": [
      "{'White': 197318956, 'Black': 40250635, 'Asian/Pacific Islander': 15834141, 'Hispanic': 44618105, 'Native American/Native Alaskan': 3739506}\n"
     ]
    }
   ],
   "source": [
    "mapping = {}\n",
    "\n",
    "for i in race_counts:\n",
    "    if i == 'Asian/Pacific Islander':\n",
    "        mapping[i] = int(census[1][14]) + int(census[1][15])\n",
    "    elif i == 'Black':\n",
    "        mapping[i] = int(census[1][12])\n",
    "    elif i == 'Hispanic':\n",
    "        mapping[i] = int(census[1][11])\n",
    "    elif i == 'Native American/Native Alaskan':\n",
    "        mapping[i] = int(census[1][13])\n",
    "    elif i == 'White':\n",
    "        mapping[i] = int(census[1][10])\n",
    "\n",
    "print(mapping)"
   ]
  },
  {
   "cell_type": "code",
   "execution_count": 31,
   "metadata": {
    "collapsed": false
   },
   "outputs": [
    {
     "name": "stdout",
     "output_type": "stream",
     "text": [
      "{'White': 33.56849303419181, 'Black': 57.8773477735196, 'Asian/Pacific Islander': 8.374309664161762, 'Hispanic': 20.220491210910907, 'Native American/Native Alaskan': 24.521955573811088}\n"
     ]
    }
   ],
   "source": [
    "race_per_hundredk = {}\n",
    "\n",
    "for i in race_counts:\n",
    "    race_per_hundredk[i] = (float(race_counts[i]) / float(mapping[i])) * 100000\n",
    "    \n",
    "print(race_per_hundredk)"
   ]
  },
  {
   "cell_type": "code",
   "execution_count": 32,
   "metadata": {
    "collapsed": false
   },
   "outputs": [
    {
     "name": "stdout",
     "output_type": "stream",
     "text": [
      "{'White': 4.6356417981453335, 'Hispanic': 12.627161104219914, 'Asian/Pacific Islander': 3.530346230970155, 'Black': 48.471284987180944, 'Native American/Native Alaskan': 8.717729026240365}\n"
     ]
    }
   ],
   "source": [
    "intents = [x[3] for x in data]\n",
    "races = [x[7] for x in data]\n",
    "homicide_race_per_hundredk = {}\n",
    "\n",
    "for i, race in enumerate(races):\n",
    "    if intents[i] == 'Homicide':\n",
    "        if race not in homicide_race_per_hundredk:\n",
    "            homicide_race_per_hundredk[race] = 1\n",
    "        else:\n",
    "            homicide_race_per_hundredk[race] += 1\n",
    "\n",
    "for i in race_counts:\n",
    "    homicide_race_per_hundredk[i] = (float(homicide_race_per_hundredk[i]) / float(mapping[i])) * 100000\n",
    "\n",
    "print(homicide_race_per_hundredk)"
   ]
  },
  {
   "cell_type": "markdown",
   "metadata": {},
   "source": [
    "### Findings\n",
    "Gun-related deaths are prevalent among individuals in the Black racial category, compared to other racial categories - with approximately 57.9 per 100,000 deaths occurring between 2012 and 2014. The next highest rate of gun-related deaths per 100,000 involves individuals in the White racial category (at approximately 33.6 deaths per 100,000).\n",
    "\n",
    "When honing in on homicide-related gun deaths, the Black racial category still tops the list at approximately 48.5 deaths per 100,000. Surprisingly, the next highest homicide-related gun deaths belongs to the Hispanic racial category at 12.6 deaths per 100,000 (even though that category is fourth in overall gun-related deaths per 100,000).\n",
    "\n",
    "### Next Steps\n",
    "The following are a few ideas that are a work in progress on this analysis.\n",
    "- Incorporate individuals of mixed race into the analysis to identify patterns involving mixed races\n",
    "- Identify prevalent racial categories involved in other types of gun-deaths (e.g. are particular racial categories more prone to committing suicide?)\n",
    "- Understand if there are seasonal patterns in gun deaths by racial category for particular intents (e.g. are suicides highest among particular racial categories in the winter?)\n",
    "- Explore homicide rates by gender.\n",
    "- Find out if gun death rates correlate to location and education."
   ]
  }
 ],
 "metadata": {
  "kernelspec": {
   "display_name": "Python 3",
   "language": "python",
   "name": "python3"
  },
  "language_info": {
   "codemirror_mode": {
    "name": "ipython",
    "version": 3
   },
   "file_extension": ".py",
   "mimetype": "text/x-python",
   "name": "python",
   "nbconvert_exporter": "python",
   "pygments_lexer": "ipython3",
   "version": "3.4.3"
  }
 },
 "nbformat": 4,
 "nbformat_minor": 0
}
